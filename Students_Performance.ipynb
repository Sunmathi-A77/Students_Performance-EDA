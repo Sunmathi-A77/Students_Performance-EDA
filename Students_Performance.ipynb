{
  "cells": [
    {
      "cell_type": "code",
      "execution_count": 108,
      "metadata": {
        "id": "gILNDB2L7fSw"
      },
      "outputs": [],
      "source": [
        "import pandas as pd\n",
        "import numpy as np\n",
        "import matplotlib.pyplot as plt\n",
        "\n",
        "df = pd.read_csv('Student_Performance.csv')"
      ]
    },
    {
      "cell_type": "markdown",
      "metadata": {
        "id": "zhCNUtDABkzv"
      },
      "source": [
        "Basic Data Understanding (Pandas)"
      ]
    },
    {
      "cell_type": "code",
      "execution_count": 109,
      "metadata": {
        "colab": {
          "base_uri": "https://localhost:8080/",
          "height": 226
        },
        "id": "YuZhwiM572CD",
        "outputId": "2849c967-3117-46e6-d529-1cb30d97ac5c"
      },
      "outputs": [
        {
          "data": {
            "text/html": [
              "<div>\n",
              "<style scoped>\n",
              "    .dataframe tbody tr th:only-of-type {\n",
              "        vertical-align: middle;\n",
              "    }\n",
              "\n",
              "    .dataframe tbody tr th {\n",
              "        vertical-align: top;\n",
              "    }\n",
              "\n",
              "    .dataframe thead th {\n",
              "        text-align: right;\n",
              "    }\n",
              "</style>\n",
              "<table border=\"1\" class=\"dataframe\">\n",
              "  <thead>\n",
              "    <tr style=\"text-align: right;\">\n",
              "      <th></th>\n",
              "      <th>Hours_Studied</th>\n",
              "      <th>Attendance</th>\n",
              "      <th>Parental_Involvement</th>\n",
              "      <th>Access_to_Resources</th>\n",
              "      <th>Extracurricular_Activities</th>\n",
              "      <th>Sleep_Hours</th>\n",
              "      <th>Previous_Scores</th>\n",
              "      <th>Motivation_Level</th>\n",
              "      <th>Internet_Access</th>\n",
              "      <th>Tutoring_Sessions</th>\n",
              "      <th>Family_Income</th>\n",
              "      <th>Teacher_Quality</th>\n",
              "      <th>School_Type</th>\n",
              "      <th>Peer_Influence</th>\n",
              "      <th>Physical_Activity</th>\n",
              "      <th>Learning_Disabilities</th>\n",
              "      <th>Parental_Education_Level</th>\n",
              "      <th>Distance_from_Home</th>\n",
              "      <th>Gender</th>\n",
              "      <th>Exam_Score</th>\n",
              "    </tr>\n",
              "  </thead>\n",
              "  <tbody>\n",
              "    <tr>\n",
              "      <th>0</th>\n",
              "      <td>23</td>\n",
              "      <td>84</td>\n",
              "      <td>Low</td>\n",
              "      <td>High</td>\n",
              "      <td>No</td>\n",
              "      <td>7</td>\n",
              "      <td>73</td>\n",
              "      <td>Low</td>\n",
              "      <td>Yes</td>\n",
              "      <td>0</td>\n",
              "      <td>Low</td>\n",
              "      <td>Medium</td>\n",
              "      <td>Public</td>\n",
              "      <td>Positive</td>\n",
              "      <td>3</td>\n",
              "      <td>No</td>\n",
              "      <td>High School</td>\n",
              "      <td>Near</td>\n",
              "      <td>Male</td>\n",
              "      <td>67</td>\n",
              "    </tr>\n",
              "    <tr>\n",
              "      <th>1</th>\n",
              "      <td>19</td>\n",
              "      <td>64</td>\n",
              "      <td>Low</td>\n",
              "      <td>Medium</td>\n",
              "      <td>No</td>\n",
              "      <td>8</td>\n",
              "      <td>59</td>\n",
              "      <td>Low</td>\n",
              "      <td>Yes</td>\n",
              "      <td>2</td>\n",
              "      <td>Medium</td>\n",
              "      <td>Medium</td>\n",
              "      <td>Public</td>\n",
              "      <td>Negative</td>\n",
              "      <td>4</td>\n",
              "      <td>No</td>\n",
              "      <td>College</td>\n",
              "      <td>Moderate</td>\n",
              "      <td>Female</td>\n",
              "      <td>61</td>\n",
              "    </tr>\n",
              "    <tr>\n",
              "      <th>2</th>\n",
              "      <td>24</td>\n",
              "      <td>98</td>\n",
              "      <td>Medium</td>\n",
              "      <td>Medium</td>\n",
              "      <td>Yes</td>\n",
              "      <td>7</td>\n",
              "      <td>91</td>\n",
              "      <td>Medium</td>\n",
              "      <td>Yes</td>\n",
              "      <td>2</td>\n",
              "      <td>Medium</td>\n",
              "      <td>Medium</td>\n",
              "      <td>Public</td>\n",
              "      <td>Neutral</td>\n",
              "      <td>4</td>\n",
              "      <td>No</td>\n",
              "      <td>Postgraduate</td>\n",
              "      <td>Near</td>\n",
              "      <td>Male</td>\n",
              "      <td>74</td>\n",
              "    </tr>\n",
              "    <tr>\n",
              "      <th>3</th>\n",
              "      <td>29</td>\n",
              "      <td>89</td>\n",
              "      <td>Low</td>\n",
              "      <td>Medium</td>\n",
              "      <td>Yes</td>\n",
              "      <td>8</td>\n",
              "      <td>98</td>\n",
              "      <td>Medium</td>\n",
              "      <td>Yes</td>\n",
              "      <td>1</td>\n",
              "      <td>Medium</td>\n",
              "      <td>Medium</td>\n",
              "      <td>Public</td>\n",
              "      <td>Negative</td>\n",
              "      <td>4</td>\n",
              "      <td>No</td>\n",
              "      <td>High School</td>\n",
              "      <td>Moderate</td>\n",
              "      <td>Male</td>\n",
              "      <td>71</td>\n",
              "    </tr>\n",
              "    <tr>\n",
              "      <th>4</th>\n",
              "      <td>19</td>\n",
              "      <td>92</td>\n",
              "      <td>Medium</td>\n",
              "      <td>Medium</td>\n",
              "      <td>Yes</td>\n",
              "      <td>6</td>\n",
              "      <td>65</td>\n",
              "      <td>Medium</td>\n",
              "      <td>Yes</td>\n",
              "      <td>3</td>\n",
              "      <td>Medium</td>\n",
              "      <td>High</td>\n",
              "      <td>Public</td>\n",
              "      <td>Neutral</td>\n",
              "      <td>4</td>\n",
              "      <td>No</td>\n",
              "      <td>College</td>\n",
              "      <td>Near</td>\n",
              "      <td>Female</td>\n",
              "      <td>70</td>\n",
              "    </tr>\n",
              "  </tbody>\n",
              "</table>\n",
              "</div>"
            ],
            "text/plain": [
              "   Hours_Studied  Attendance Parental_Involvement Access_to_Resources  \\\n",
              "0             23          84                  Low                High   \n",
              "1             19          64                  Low              Medium   \n",
              "2             24          98               Medium              Medium   \n",
              "3             29          89                  Low              Medium   \n",
              "4             19          92               Medium              Medium   \n",
              "\n",
              "  Extracurricular_Activities  Sleep_Hours  Previous_Scores Motivation_Level  \\\n",
              "0                         No            7               73              Low   \n",
              "1                         No            8               59              Low   \n",
              "2                        Yes            7               91           Medium   \n",
              "3                        Yes            8               98           Medium   \n",
              "4                        Yes            6               65           Medium   \n",
              "\n",
              "  Internet_Access  Tutoring_Sessions Family_Income Teacher_Quality  \\\n",
              "0             Yes                  0           Low          Medium   \n",
              "1             Yes                  2        Medium          Medium   \n",
              "2             Yes                  2        Medium          Medium   \n",
              "3             Yes                  1        Medium          Medium   \n",
              "4             Yes                  3        Medium            High   \n",
              "\n",
              "  School_Type Peer_Influence  Physical_Activity Learning_Disabilities  \\\n",
              "0      Public       Positive                  3                    No   \n",
              "1      Public       Negative                  4                    No   \n",
              "2      Public        Neutral                  4                    No   \n",
              "3      Public       Negative                  4                    No   \n",
              "4      Public        Neutral                  4                    No   \n",
              "\n",
              "  Parental_Education_Level Distance_from_Home  Gender  Exam_Score  \n",
              "0              High School               Near    Male          67  \n",
              "1                  College           Moderate  Female          61  \n",
              "2             Postgraduate               Near    Male          74  \n",
              "3              High School           Moderate    Male          71  \n",
              "4                  College               Near  Female          70  "
            ]
          },
          "execution_count": 109,
          "metadata": {},
          "output_type": "execute_result"
        }
      ],
      "source": [
        "df.head()"
      ]
    },
    {
      "cell_type": "code",
      "execution_count": 110,
      "metadata": {
        "colab": {
          "base_uri": "https://localhost:8080/",
          "height": 226
        },
        "id": "gJcxKQt98GA2",
        "outputId": "ea7cc194-8e02-4130-db49-3094103a2baa"
      },
      "outputs": [
        {
          "data": {
            "text/html": [
              "<div>\n",
              "<style scoped>\n",
              "    .dataframe tbody tr th:only-of-type {\n",
              "        vertical-align: middle;\n",
              "    }\n",
              "\n",
              "    .dataframe tbody tr th {\n",
              "        vertical-align: top;\n",
              "    }\n",
              "\n",
              "    .dataframe thead th {\n",
              "        text-align: right;\n",
              "    }\n",
              "</style>\n",
              "<table border=\"1\" class=\"dataframe\">\n",
              "  <thead>\n",
              "    <tr style=\"text-align: right;\">\n",
              "      <th></th>\n",
              "      <th>Hours_Studied</th>\n",
              "      <th>Attendance</th>\n",
              "      <th>Parental_Involvement</th>\n",
              "      <th>Access_to_Resources</th>\n",
              "      <th>Extracurricular_Activities</th>\n",
              "      <th>Sleep_Hours</th>\n",
              "      <th>Previous_Scores</th>\n",
              "      <th>Motivation_Level</th>\n",
              "      <th>Internet_Access</th>\n",
              "      <th>Tutoring_Sessions</th>\n",
              "      <th>Family_Income</th>\n",
              "      <th>Teacher_Quality</th>\n",
              "      <th>School_Type</th>\n",
              "      <th>Peer_Influence</th>\n",
              "      <th>Physical_Activity</th>\n",
              "      <th>Learning_Disabilities</th>\n",
              "      <th>Parental_Education_Level</th>\n",
              "      <th>Distance_from_Home</th>\n",
              "      <th>Gender</th>\n",
              "      <th>Exam_Score</th>\n",
              "    </tr>\n",
              "  </thead>\n",
              "  <tbody>\n",
              "    <tr>\n",
              "      <th>6602</th>\n",
              "      <td>25</td>\n",
              "      <td>69</td>\n",
              "      <td>High</td>\n",
              "      <td>Medium</td>\n",
              "      <td>No</td>\n",
              "      <td>7</td>\n",
              "      <td>76</td>\n",
              "      <td>Medium</td>\n",
              "      <td>Yes</td>\n",
              "      <td>1</td>\n",
              "      <td>High</td>\n",
              "      <td>Medium</td>\n",
              "      <td>Public</td>\n",
              "      <td>Positive</td>\n",
              "      <td>2</td>\n",
              "      <td>No</td>\n",
              "      <td>High School</td>\n",
              "      <td>Near</td>\n",
              "      <td>Female</td>\n",
              "      <td>68</td>\n",
              "    </tr>\n",
              "    <tr>\n",
              "      <th>6603</th>\n",
              "      <td>23</td>\n",
              "      <td>76</td>\n",
              "      <td>High</td>\n",
              "      <td>Medium</td>\n",
              "      <td>No</td>\n",
              "      <td>8</td>\n",
              "      <td>81</td>\n",
              "      <td>Medium</td>\n",
              "      <td>Yes</td>\n",
              "      <td>3</td>\n",
              "      <td>Low</td>\n",
              "      <td>High</td>\n",
              "      <td>Public</td>\n",
              "      <td>Positive</td>\n",
              "      <td>2</td>\n",
              "      <td>No</td>\n",
              "      <td>High School</td>\n",
              "      <td>Near</td>\n",
              "      <td>Female</td>\n",
              "      <td>69</td>\n",
              "    </tr>\n",
              "    <tr>\n",
              "      <th>6604</th>\n",
              "      <td>20</td>\n",
              "      <td>90</td>\n",
              "      <td>Medium</td>\n",
              "      <td>Low</td>\n",
              "      <td>Yes</td>\n",
              "      <td>6</td>\n",
              "      <td>65</td>\n",
              "      <td>Low</td>\n",
              "      <td>Yes</td>\n",
              "      <td>3</td>\n",
              "      <td>Low</td>\n",
              "      <td>Medium</td>\n",
              "      <td>Public</td>\n",
              "      <td>Negative</td>\n",
              "      <td>2</td>\n",
              "      <td>No</td>\n",
              "      <td>Postgraduate</td>\n",
              "      <td>Near</td>\n",
              "      <td>Female</td>\n",
              "      <td>68</td>\n",
              "    </tr>\n",
              "    <tr>\n",
              "      <th>6605</th>\n",
              "      <td>10</td>\n",
              "      <td>86</td>\n",
              "      <td>High</td>\n",
              "      <td>High</td>\n",
              "      <td>Yes</td>\n",
              "      <td>6</td>\n",
              "      <td>91</td>\n",
              "      <td>High</td>\n",
              "      <td>Yes</td>\n",
              "      <td>2</td>\n",
              "      <td>Low</td>\n",
              "      <td>Medium</td>\n",
              "      <td>Private</td>\n",
              "      <td>Positive</td>\n",
              "      <td>3</td>\n",
              "      <td>No</td>\n",
              "      <td>High School</td>\n",
              "      <td>Far</td>\n",
              "      <td>Female</td>\n",
              "      <td>68</td>\n",
              "    </tr>\n",
              "    <tr>\n",
              "      <th>6606</th>\n",
              "      <td>15</td>\n",
              "      <td>67</td>\n",
              "      <td>Medium</td>\n",
              "      <td>Low</td>\n",
              "      <td>Yes</td>\n",
              "      <td>9</td>\n",
              "      <td>94</td>\n",
              "      <td>Medium</td>\n",
              "      <td>Yes</td>\n",
              "      <td>0</td>\n",
              "      <td>Medium</td>\n",
              "      <td>Medium</td>\n",
              "      <td>Public</td>\n",
              "      <td>Positive</td>\n",
              "      <td>4</td>\n",
              "      <td>No</td>\n",
              "      <td>Postgraduate</td>\n",
              "      <td>Near</td>\n",
              "      <td>Male</td>\n",
              "      <td>64</td>\n",
              "    </tr>\n",
              "  </tbody>\n",
              "</table>\n",
              "</div>"
            ],
            "text/plain": [
              "      Hours_Studied  Attendance Parental_Involvement Access_to_Resources  \\\n",
              "6602             25          69                 High              Medium   \n",
              "6603             23          76                 High              Medium   \n",
              "6604             20          90               Medium                 Low   \n",
              "6605             10          86                 High                High   \n",
              "6606             15          67               Medium                 Low   \n",
              "\n",
              "     Extracurricular_Activities  Sleep_Hours  Previous_Scores  \\\n",
              "6602                         No            7               76   \n",
              "6603                         No            8               81   \n",
              "6604                        Yes            6               65   \n",
              "6605                        Yes            6               91   \n",
              "6606                        Yes            9               94   \n",
              "\n",
              "     Motivation_Level Internet_Access  Tutoring_Sessions Family_Income  \\\n",
              "6602           Medium             Yes                  1          High   \n",
              "6603           Medium             Yes                  3           Low   \n",
              "6604              Low             Yes                  3           Low   \n",
              "6605             High             Yes                  2           Low   \n",
              "6606           Medium             Yes                  0        Medium   \n",
              "\n",
              "     Teacher_Quality School_Type Peer_Influence  Physical_Activity  \\\n",
              "6602          Medium      Public       Positive                  2   \n",
              "6603            High      Public       Positive                  2   \n",
              "6604          Medium      Public       Negative                  2   \n",
              "6605          Medium     Private       Positive                  3   \n",
              "6606          Medium      Public       Positive                  4   \n",
              "\n",
              "     Learning_Disabilities Parental_Education_Level Distance_from_Home  \\\n",
              "6602                    No              High School               Near   \n",
              "6603                    No              High School               Near   \n",
              "6604                    No             Postgraduate               Near   \n",
              "6605                    No              High School                Far   \n",
              "6606                    No             Postgraduate               Near   \n",
              "\n",
              "      Gender  Exam_Score  \n",
              "6602  Female          68  \n",
              "6603  Female          69  \n",
              "6604  Female          68  \n",
              "6605  Female          68  \n",
              "6606    Male          64  "
            ]
          },
          "execution_count": 110,
          "metadata": {},
          "output_type": "execute_result"
        }
      ],
      "source": [
        "df.tail()"
      ]
    },
    {
      "cell_type": "code",
      "execution_count": 111,
      "metadata": {
        "colab": {
          "base_uri": "https://localhost:8080/",
          "height": 101
        },
        "id": "KmFut5dYU31x",
        "outputId": "051bbc2b-38ba-4d50-e0e2-fd3fec71412c"
      },
      "outputs": [
        {
          "data": {
            "text/html": [
              "<div>\n",
              "<style scoped>\n",
              "    .dataframe tbody tr th:only-of-type {\n",
              "        vertical-align: middle;\n",
              "    }\n",
              "\n",
              "    .dataframe tbody tr th {\n",
              "        vertical-align: top;\n",
              "    }\n",
              "\n",
              "    .dataframe thead th {\n",
              "        text-align: right;\n",
              "    }\n",
              "</style>\n",
              "<table border=\"1\" class=\"dataframe\">\n",
              "  <thead>\n",
              "    <tr style=\"text-align: right;\">\n",
              "      <th></th>\n",
              "      <th>Hours_Studied</th>\n",
              "      <th>Attendance</th>\n",
              "      <th>Parental_Involvement</th>\n",
              "      <th>Access_to_Resources</th>\n",
              "      <th>Extracurricular_Activities</th>\n",
              "      <th>Sleep_Hours</th>\n",
              "      <th>Previous_Scores</th>\n",
              "      <th>Motivation_Level</th>\n",
              "      <th>Internet_Access</th>\n",
              "      <th>Tutoring_Sessions</th>\n",
              "      <th>Family_Income</th>\n",
              "      <th>Teacher_Quality</th>\n",
              "      <th>School_Type</th>\n",
              "      <th>Peer_Influence</th>\n",
              "      <th>Physical_Activity</th>\n",
              "      <th>Learning_Disabilities</th>\n",
              "      <th>Parental_Education_Level</th>\n",
              "      <th>Distance_from_Home</th>\n",
              "      <th>Gender</th>\n",
              "      <th>Exam_Score</th>\n",
              "    </tr>\n",
              "  </thead>\n",
              "  <tbody>\n",
              "    <tr>\n",
              "      <th>1381</th>\n",
              "      <td>17</td>\n",
              "      <td>74</td>\n",
              "      <td>Medium</td>\n",
              "      <td>Medium</td>\n",
              "      <td>No</td>\n",
              "      <td>9</td>\n",
              "      <td>56</td>\n",
              "      <td>Medium</td>\n",
              "      <td>Yes</td>\n",
              "      <td>1</td>\n",
              "      <td>Medium</td>\n",
              "      <td>High</td>\n",
              "      <td>Private</td>\n",
              "      <td>Negative</td>\n",
              "      <td>3</td>\n",
              "      <td>No</td>\n",
              "      <td>High School</td>\n",
              "      <td>Moderate</td>\n",
              "      <td>Male</td>\n",
              "      <td>63</td>\n",
              "    </tr>\n",
              "  </tbody>\n",
              "</table>\n",
              "</div>"
            ],
            "text/plain": [
              "      Hours_Studied  Attendance Parental_Involvement Access_to_Resources  \\\n",
              "1381             17          74               Medium              Medium   \n",
              "\n",
              "     Extracurricular_Activities  Sleep_Hours  Previous_Scores  \\\n",
              "1381                         No            9               56   \n",
              "\n",
              "     Motivation_Level Internet_Access  Tutoring_Sessions Family_Income  \\\n",
              "1381           Medium             Yes                  1        Medium   \n",
              "\n",
              "     Teacher_Quality School_Type Peer_Influence  Physical_Activity  \\\n",
              "1381            High     Private       Negative                  3   \n",
              "\n",
              "     Learning_Disabilities Parental_Education_Level Distance_from_Home Gender  \\\n",
              "1381                    No              High School           Moderate   Male   \n",
              "\n",
              "      Exam_Score  \n",
              "1381          63  "
            ]
          },
          "execution_count": 111,
          "metadata": {},
          "output_type": "execute_result"
        }
      ],
      "source": [
        "df.sample()"
      ]
    },
    {
      "cell_type": "code",
      "execution_count": 112,
      "metadata": {
        "colab": {
          "base_uri": "https://localhost:8080/"
        },
        "id": "MaGZg6BU85VA",
        "outputId": "c8765919-bee2-44f2-9d8c-4ae1941a4c4f"
      },
      "outputs": [
        {
          "data": {
            "text/plain": [
              "(6607, 20)"
            ]
          },
          "execution_count": 112,
          "metadata": {},
          "output_type": "execute_result"
        }
      ],
      "source": [
        "df.shape"
      ]
    },
    {
      "cell_type": "code",
      "execution_count": 113,
      "metadata": {
        "colab": {
          "base_uri": "https://localhost:8080/"
        },
        "id": "hrkaH0ioWTCn",
        "outputId": "41186529-7e0d-4a2a-c893-82332e0ca9eb"
      },
      "outputs": [
        {
          "data": {
            "text/plain": [
              "RangeIndex(start=0, stop=6607, step=1)"
            ]
          },
          "execution_count": 113,
          "metadata": {},
          "output_type": "execute_result"
        }
      ],
      "source": [
        "df.index"
      ]
    },
    {
      "cell_type": "code",
      "execution_count": 114,
      "metadata": {
        "colab": {
          "base_uri": "https://localhost:8080/"
        },
        "id": "Z5GkNYmX88Ps",
        "outputId": "c3261499-6ec7-43da-d4e8-8932aae4f675"
      },
      "outputs": [
        {
          "data": {
            "text/plain": [
              "Index(['Hours_Studied', 'Attendance', 'Parental_Involvement',\n",
              "       'Access_to_Resources', 'Extracurricular_Activities', 'Sleep_Hours',\n",
              "       'Previous_Scores', 'Motivation_Level', 'Internet_Access',\n",
              "       'Tutoring_Sessions', 'Family_Income', 'Teacher_Quality', 'School_Type',\n",
              "       'Peer_Influence', 'Physical_Activity', 'Learning_Disabilities',\n",
              "       'Parental_Education_Level', 'Distance_from_Home', 'Gender',\n",
              "       'Exam_Score'],\n",
              "      dtype='object')"
            ]
          },
          "execution_count": 114,
          "metadata": {},
          "output_type": "execute_result"
        }
      ],
      "source": [
        "df.columns"
      ]
    },
    {
      "cell_type": "code",
      "execution_count": 115,
      "metadata": {
        "colab": {
          "base_uri": "https://localhost:8080/"
        },
        "id": "xqCTUQM99qwV",
        "outputId": "4b530af2-dfe8-479d-fa3c-33634d3000e8"
      },
      "outputs": [
        {
          "name": "stdout",
          "output_type": "stream",
          "text": [
            "<class 'pandas.core.frame.DataFrame'>\n",
            "RangeIndex: 6607 entries, 0 to 6606\n",
            "Data columns (total 20 columns):\n",
            " #   Column                      Non-Null Count  Dtype \n",
            "---  ------                      --------------  ----- \n",
            " 0   Hours_Studied               6607 non-null   int64 \n",
            " 1   Attendance                  6607 non-null   int64 \n",
            " 2   Parental_Involvement        6607 non-null   object\n",
            " 3   Access_to_Resources         6607 non-null   object\n",
            " 4   Extracurricular_Activities  6607 non-null   object\n",
            " 5   Sleep_Hours                 6607 non-null   int64 \n",
            " 6   Previous_Scores             6607 non-null   int64 \n",
            " 7   Motivation_Level            6607 non-null   object\n",
            " 8   Internet_Access             6607 non-null   object\n",
            " 9   Tutoring_Sessions           6607 non-null   int64 \n",
            " 10  Family_Income               6607 non-null   object\n",
            " 11  Teacher_Quality             6529 non-null   object\n",
            " 12  School_Type                 6607 non-null   object\n",
            " 13  Peer_Influence              6607 non-null   object\n",
            " 14  Physical_Activity           6607 non-null   int64 \n",
            " 15  Learning_Disabilities       6607 non-null   object\n",
            " 16  Parental_Education_Level    6517 non-null   object\n",
            " 17  Distance_from_Home          6540 non-null   object\n",
            " 18  Gender                      6607 non-null   object\n",
            " 19  Exam_Score                  6607 non-null   int64 \n",
            "dtypes: int64(7), object(13)\n",
            "memory usage: 1.0+ MB\n"
          ]
        }
      ],
      "source": [
        "df.info()"
      ]
    },
    {
      "cell_type": "code",
      "execution_count": 116,
      "metadata": {
        "colab": {
          "base_uri": "https://localhost:8080/",
          "height": 300
        },
        "id": "9QEacYJKWoYH",
        "outputId": "a5b6298d-e91c-400b-935a-e27415751191"
      },
      "outputs": [
        {
          "data": {
            "text/html": [
              "<div>\n",
              "<style scoped>\n",
              "    .dataframe tbody tr th:only-of-type {\n",
              "        vertical-align: middle;\n",
              "    }\n",
              "\n",
              "    .dataframe tbody tr th {\n",
              "        vertical-align: top;\n",
              "    }\n",
              "\n",
              "    .dataframe thead th {\n",
              "        text-align: right;\n",
              "    }\n",
              "</style>\n",
              "<table border=\"1\" class=\"dataframe\">\n",
              "  <thead>\n",
              "    <tr style=\"text-align: right;\">\n",
              "      <th></th>\n",
              "      <th>Hours_Studied</th>\n",
              "      <th>Attendance</th>\n",
              "      <th>Sleep_Hours</th>\n",
              "      <th>Previous_Scores</th>\n",
              "      <th>Tutoring_Sessions</th>\n",
              "      <th>Physical_Activity</th>\n",
              "      <th>Exam_Score</th>\n",
              "    </tr>\n",
              "  </thead>\n",
              "  <tbody>\n",
              "    <tr>\n",
              "      <th>count</th>\n",
              "      <td>6607.000000</td>\n",
              "      <td>6607.000000</td>\n",
              "      <td>6607.00000</td>\n",
              "      <td>6607.000000</td>\n",
              "      <td>6607.000000</td>\n",
              "      <td>6607.000000</td>\n",
              "      <td>6607.000000</td>\n",
              "    </tr>\n",
              "    <tr>\n",
              "      <th>mean</th>\n",
              "      <td>19.975329</td>\n",
              "      <td>79.977448</td>\n",
              "      <td>7.02906</td>\n",
              "      <td>75.070531</td>\n",
              "      <td>1.493719</td>\n",
              "      <td>2.967610</td>\n",
              "      <td>67.235659</td>\n",
              "    </tr>\n",
              "    <tr>\n",
              "      <th>std</th>\n",
              "      <td>5.990594</td>\n",
              "      <td>11.547475</td>\n",
              "      <td>1.46812</td>\n",
              "      <td>14.399784</td>\n",
              "      <td>1.230570</td>\n",
              "      <td>1.031231</td>\n",
              "      <td>3.890456</td>\n",
              "    </tr>\n",
              "    <tr>\n",
              "      <th>min</th>\n",
              "      <td>1.000000</td>\n",
              "      <td>60.000000</td>\n",
              "      <td>4.00000</td>\n",
              "      <td>50.000000</td>\n",
              "      <td>0.000000</td>\n",
              "      <td>0.000000</td>\n",
              "      <td>55.000000</td>\n",
              "    </tr>\n",
              "    <tr>\n",
              "      <th>25%</th>\n",
              "      <td>16.000000</td>\n",
              "      <td>70.000000</td>\n",
              "      <td>6.00000</td>\n",
              "      <td>63.000000</td>\n",
              "      <td>1.000000</td>\n",
              "      <td>2.000000</td>\n",
              "      <td>65.000000</td>\n",
              "    </tr>\n",
              "    <tr>\n",
              "      <th>50%</th>\n",
              "      <td>20.000000</td>\n",
              "      <td>80.000000</td>\n",
              "      <td>7.00000</td>\n",
              "      <td>75.000000</td>\n",
              "      <td>1.000000</td>\n",
              "      <td>3.000000</td>\n",
              "      <td>67.000000</td>\n",
              "    </tr>\n",
              "    <tr>\n",
              "      <th>75%</th>\n",
              "      <td>24.000000</td>\n",
              "      <td>90.000000</td>\n",
              "      <td>8.00000</td>\n",
              "      <td>88.000000</td>\n",
              "      <td>2.000000</td>\n",
              "      <td>4.000000</td>\n",
              "      <td>69.000000</td>\n",
              "    </tr>\n",
              "    <tr>\n",
              "      <th>max</th>\n",
              "      <td>44.000000</td>\n",
              "      <td>100.000000</td>\n",
              "      <td>10.00000</td>\n",
              "      <td>100.000000</td>\n",
              "      <td>8.000000</td>\n",
              "      <td>6.000000</td>\n",
              "      <td>101.000000</td>\n",
              "    </tr>\n",
              "  </tbody>\n",
              "</table>\n",
              "</div>"
            ],
            "text/plain": [
              "       Hours_Studied   Attendance  Sleep_Hours  Previous_Scores  \\\n",
              "count    6607.000000  6607.000000   6607.00000      6607.000000   \n",
              "mean       19.975329    79.977448      7.02906        75.070531   \n",
              "std         5.990594    11.547475      1.46812        14.399784   \n",
              "min         1.000000    60.000000      4.00000        50.000000   \n",
              "25%        16.000000    70.000000      6.00000        63.000000   \n",
              "50%        20.000000    80.000000      7.00000        75.000000   \n",
              "75%        24.000000    90.000000      8.00000        88.000000   \n",
              "max        44.000000   100.000000     10.00000       100.000000   \n",
              "\n",
              "       Tutoring_Sessions  Physical_Activity   Exam_Score  \n",
              "count        6607.000000        6607.000000  6607.000000  \n",
              "mean            1.493719           2.967610    67.235659  \n",
              "std             1.230570           1.031231     3.890456  \n",
              "min             0.000000           0.000000    55.000000  \n",
              "25%             1.000000           2.000000    65.000000  \n",
              "50%             1.000000           3.000000    67.000000  \n",
              "75%             2.000000           4.000000    69.000000  \n",
              "max             8.000000           6.000000   101.000000  "
            ]
          },
          "execution_count": 116,
          "metadata": {},
          "output_type": "execute_result"
        }
      ],
      "source": [
        "df.describe()"
      ]
    },
    {
      "cell_type": "code",
      "execution_count": 117,
      "metadata": {
        "colab": {
          "base_uri": "https://localhost:8080/",
          "height": 195
        },
        "id": "To2yBXXN9kA4",
        "outputId": "e8ffcc87-226c-467b-cb7c-55d0653fa404"
      },
      "outputs": [
        {
          "data": {
            "text/html": [
              "<div>\n",
              "<style scoped>\n",
              "    .dataframe tbody tr th:only-of-type {\n",
              "        vertical-align: middle;\n",
              "    }\n",
              "\n",
              "    .dataframe tbody tr th {\n",
              "        vertical-align: top;\n",
              "    }\n",
              "\n",
              "    .dataframe thead th {\n",
              "        text-align: right;\n",
              "    }\n",
              "</style>\n",
              "<table border=\"1\" class=\"dataframe\">\n",
              "  <thead>\n",
              "    <tr style=\"text-align: right;\">\n",
              "      <th></th>\n",
              "      <th>Parental_Involvement</th>\n",
              "      <th>Access_to_Resources</th>\n",
              "      <th>Extracurricular_Activities</th>\n",
              "      <th>Motivation_Level</th>\n",
              "      <th>Internet_Access</th>\n",
              "      <th>Family_Income</th>\n",
              "      <th>Teacher_Quality</th>\n",
              "      <th>School_Type</th>\n",
              "      <th>Peer_Influence</th>\n",
              "      <th>Learning_Disabilities</th>\n",
              "      <th>Parental_Education_Level</th>\n",
              "      <th>Distance_from_Home</th>\n",
              "      <th>Gender</th>\n",
              "    </tr>\n",
              "  </thead>\n",
              "  <tbody>\n",
              "    <tr>\n",
              "      <th>count</th>\n",
              "      <td>6607</td>\n",
              "      <td>6607</td>\n",
              "      <td>6607</td>\n",
              "      <td>6607</td>\n",
              "      <td>6607</td>\n",
              "      <td>6607</td>\n",
              "      <td>6529</td>\n",
              "      <td>6607</td>\n",
              "      <td>6607</td>\n",
              "      <td>6607</td>\n",
              "      <td>6517</td>\n",
              "      <td>6540</td>\n",
              "      <td>6607</td>\n",
              "    </tr>\n",
              "    <tr>\n",
              "      <th>unique</th>\n",
              "      <td>3</td>\n",
              "      <td>3</td>\n",
              "      <td>2</td>\n",
              "      <td>3</td>\n",
              "      <td>2</td>\n",
              "      <td>3</td>\n",
              "      <td>3</td>\n",
              "      <td>2</td>\n",
              "      <td>3</td>\n",
              "      <td>2</td>\n",
              "      <td>3</td>\n",
              "      <td>3</td>\n",
              "      <td>2</td>\n",
              "    </tr>\n",
              "    <tr>\n",
              "      <th>top</th>\n",
              "      <td>Medium</td>\n",
              "      <td>Medium</td>\n",
              "      <td>Yes</td>\n",
              "      <td>Medium</td>\n",
              "      <td>Yes</td>\n",
              "      <td>Low</td>\n",
              "      <td>Medium</td>\n",
              "      <td>Public</td>\n",
              "      <td>Positive</td>\n",
              "      <td>No</td>\n",
              "      <td>High School</td>\n",
              "      <td>Near</td>\n",
              "      <td>Male</td>\n",
              "    </tr>\n",
              "    <tr>\n",
              "      <th>freq</th>\n",
              "      <td>3362</td>\n",
              "      <td>3319</td>\n",
              "      <td>3938</td>\n",
              "      <td>3351</td>\n",
              "      <td>6108</td>\n",
              "      <td>2672</td>\n",
              "      <td>3925</td>\n",
              "      <td>4598</td>\n",
              "      <td>2638</td>\n",
              "      <td>5912</td>\n",
              "      <td>3223</td>\n",
              "      <td>3884</td>\n",
              "      <td>3814</td>\n",
              "    </tr>\n",
              "  </tbody>\n",
              "</table>\n",
              "</div>"
            ],
            "text/plain": [
              "       Parental_Involvement Access_to_Resources Extracurricular_Activities  \\\n",
              "count                  6607                6607                       6607   \n",
              "unique                    3                   3                          2   \n",
              "top                  Medium              Medium                        Yes   \n",
              "freq                   3362                3319                       3938   \n",
              "\n",
              "       Motivation_Level Internet_Access Family_Income Teacher_Quality  \\\n",
              "count              6607            6607          6607            6529   \n",
              "unique                3               2             3               3   \n",
              "top              Medium             Yes           Low          Medium   \n",
              "freq               3351            6108          2672            3925   \n",
              "\n",
              "       School_Type Peer_Influence Learning_Disabilities  \\\n",
              "count         6607           6607                  6607   \n",
              "unique           2              3                     2   \n",
              "top         Public       Positive                    No   \n",
              "freq          4598           2638                  5912   \n",
              "\n",
              "       Parental_Education_Level Distance_from_Home Gender  \n",
              "count                      6517               6540   6607  \n",
              "unique                        3                  3      2  \n",
              "top                 High School               Near   Male  \n",
              "freq                       3223               3884   3814  "
            ]
          },
          "execution_count": 117,
          "metadata": {},
          "output_type": "execute_result"
        }
      ],
      "source": [
        "df.describe(include='object')"
      ]
    },
    {
      "cell_type": "code",
      "execution_count": 118,
      "metadata": {
        "colab": {
          "base_uri": "https://localhost:8080/",
          "height": 711
        },
        "id": "Pun7P8YE-KEy",
        "outputId": "2a220fc2-6c7a-4653-b5b3-c0af97ea6abe"
      },
      "outputs": [
        {
          "data": {
            "text/plain": [
              "Hours_Studied                 41\n",
              "Attendance                    41\n",
              "Parental_Involvement           3\n",
              "Access_to_Resources            3\n",
              "Extracurricular_Activities     2\n",
              "Sleep_Hours                    7\n",
              "Previous_Scores               51\n",
              "Motivation_Level               3\n",
              "Internet_Access                2\n",
              "Tutoring_Sessions              9\n",
              "Family_Income                  3\n",
              "Teacher_Quality                3\n",
              "School_Type                    2\n",
              "Peer_Influence                 3\n",
              "Physical_Activity              7\n",
              "Learning_Disabilities          2\n",
              "Parental_Education_Level       3\n",
              "Distance_from_Home             3\n",
              "Gender                         2\n",
              "Exam_Score                    45\n",
              "dtype: int64"
            ]
          },
          "execution_count": 118,
          "metadata": {},
          "output_type": "execute_result"
        }
      ],
      "source": [
        "df.nunique()"
      ]
    },
    {
      "cell_type": "code",
      "execution_count": 119,
      "metadata": {
        "colab": {
          "base_uri": "https://localhost:8080/",
          "height": 711
        },
        "id": "7MWE4EQy9WCp",
        "outputId": "c824c7c9-15fc-437d-9770-5802ef344ee8"
      },
      "outputs": [
        {
          "data": {
            "text/plain": [
              "Hours_Studied                  0\n",
              "Attendance                     0\n",
              "Parental_Involvement           0\n",
              "Access_to_Resources            0\n",
              "Extracurricular_Activities     0\n",
              "Sleep_Hours                    0\n",
              "Previous_Scores                0\n",
              "Motivation_Level               0\n",
              "Internet_Access                0\n",
              "Tutoring_Sessions              0\n",
              "Family_Income                  0\n",
              "Teacher_Quality               78\n",
              "School_Type                    0\n",
              "Peer_Influence                 0\n",
              "Physical_Activity              0\n",
              "Learning_Disabilities          0\n",
              "Parental_Education_Level      90\n",
              "Distance_from_Home            67\n",
              "Gender                         0\n",
              "Exam_Score                     0\n",
              "dtype: int64"
            ]
          },
          "execution_count": 119,
          "metadata": {},
          "output_type": "execute_result"
        }
      ],
      "source": [
        "df.isnull().sum()"
      ]
    },
    {
      "cell_type": "code",
      "execution_count": 120,
      "metadata": {
        "colab": {
          "base_uri": "https://localhost:8080/"
        },
        "id": "uQ6VO5nS-VFg",
        "outputId": "ab8d25b9-726a-4d8e-b9d0-b2640590ad43"
      },
      "outputs": [
        {
          "data": {
            "text/plain": [
              "np.int64(0)"
            ]
          },
          "execution_count": 120,
          "metadata": {},
          "output_type": "execute_result"
        }
      ],
      "source": [
        "df.duplicated().sum()"
      ]
    },
    {
      "cell_type": "code",
      "execution_count": 121,
      "metadata": {
        "colab": {
          "base_uri": "https://localhost:8080/",
          "height": 711
        },
        "id": "I1kTLn4z9Oc-",
        "outputId": "42f44adb-48df-42bb-cbe6-9e3651bfb736"
      },
      "outputs": [
        {
          "data": {
            "text/plain": [
              "Hours_Studied                  int64\n",
              "Attendance                     int64\n",
              "Parental_Involvement          object\n",
              "Access_to_Resources           object\n",
              "Extracurricular_Activities    object\n",
              "Sleep_Hours                    int64\n",
              "Previous_Scores                int64\n",
              "Motivation_Level              object\n",
              "Internet_Access               object\n",
              "Tutoring_Sessions              int64\n",
              "Family_Income                 object\n",
              "Teacher_Quality               object\n",
              "School_Type                   object\n",
              "Peer_Influence                object\n",
              "Physical_Activity              int64\n",
              "Learning_Disabilities         object\n",
              "Parental_Education_Level      object\n",
              "Distance_from_Home            object\n",
              "Gender                        object\n",
              "Exam_Score                     int64\n",
              "dtype: object"
            ]
          },
          "execution_count": 121,
          "metadata": {},
          "output_type": "execute_result"
        }
      ],
      "source": [
        "df.dtypes"
      ]
    },
    {
      "cell_type": "markdown",
      "metadata": {
        "id": "Ta-THaBWS8uK"
      },
      "source": [
        "Data Cleaning"
      ]
    },
    {
      "cell_type": "code",
      "execution_count": 122,
      "metadata": {
        "colab": {
          "base_uri": "https://localhost:8080/"
        },
        "id": "i3FQRgRWTCxo",
        "outputId": "86d7c0f9-4f27-40ad-8ba8-2d69924d196a"
      },
      "outputs": [
        {
          "name": "stdout",
          "output_type": "stream",
          "text": [
            "Teacher_Quality\n",
            "Medium    3925\n",
            "High      1947\n",
            "Low        657\n",
            "Name: count, dtype: int64\n"
          ]
        }
      ],
      "source": [
        "print(df['Teacher_Quality'].value_counts())\n",
        "df['Teacher_Quality'] = df['Teacher_Quality'].fillna(df['Teacher_Quality'].mode()[0])"
      ]
    },
    {
      "cell_type": "code",
      "execution_count": 123,
      "metadata": {
        "colab": {
          "base_uri": "https://localhost:8080/"
        },
        "id": "rEYHZyxvY6OY",
        "outputId": "a6ba9628-d44f-405d-fbb1-c000e32d07e5"
      },
      "outputs": [
        {
          "name": "stdout",
          "output_type": "stream",
          "text": [
            "Parental_Education_Level\n",
            "High School     3223\n",
            "College         1989\n",
            "Postgraduate    1305\n",
            "Name: count, dtype: int64\n"
          ]
        }
      ],
      "source": [
        "print(df['Parental_Education_Level'].value_counts())\n",
        "df['Parental_Education_Level'] = df['Parental_Education_Level'].fillna(df['Parental_Education_Level'].mode()[0])"
      ]
    },
    {
      "cell_type": "code",
      "execution_count": 124,
      "metadata": {
        "colab": {
          "base_uri": "https://localhost:8080/"
        },
        "id": "R-WB7xzHY9F9",
        "outputId": "0e357551-8321-4c55-96fd-1c0e68adb85d"
      },
      "outputs": [
        {
          "name": "stdout",
          "output_type": "stream",
          "text": [
            "Distance_from_Home\n",
            "Near        3884\n",
            "Moderate    1998\n",
            "Far          658\n",
            "Name: count, dtype: int64\n"
          ]
        }
      ],
      "source": [
        "print(df['Distance_from_Home'].value_counts())\n",
        "df['Distance_from_Home'] = df['Distance_from_Home'].fillna(df['Distance_from_Home'].mode()[0])"
      ]
    },
    {
      "cell_type": "code",
      "execution_count": 125,
      "metadata": {
        "colab": {
          "base_uri": "https://localhost:8080/",
          "height": 711
        },
        "id": "Ng6LOcKRaD7G",
        "outputId": "27c15ea7-c0bb-4885-bc2d-affad24bf133"
      },
      "outputs": [
        {
          "data": {
            "text/plain": [
              "Hours_Studied                 0\n",
              "Attendance                    0\n",
              "Parental_Involvement          0\n",
              "Access_to_Resources           0\n",
              "Extracurricular_Activities    0\n",
              "Sleep_Hours                   0\n",
              "Previous_Scores               0\n",
              "Motivation_Level              0\n",
              "Internet_Access               0\n",
              "Tutoring_Sessions             0\n",
              "Family_Income                 0\n",
              "Teacher_Quality               0\n",
              "School_Type                   0\n",
              "Peer_Influence                0\n",
              "Physical_Activity             0\n",
              "Learning_Disabilities         0\n",
              "Parental_Education_Level      0\n",
              "Distance_from_Home            0\n",
              "Gender                        0\n",
              "Exam_Score                    0\n",
              "dtype: int64"
            ]
          },
          "execution_count": 125,
          "metadata": {},
          "output_type": "execute_result"
        }
      ],
      "source": [
        "df.isnull().sum()"
      ]
    },
    {
      "cell_type": "markdown",
      "metadata": {
        "id": "jX1Q-5F3CweL"
      },
      "source": [
        "Exploratory Data Analysis (EDA)"
      ]
    },
    {
      "cell_type": "code",
      "execution_count": 126,
      "metadata": {
        "colab": {
          "base_uri": "https://localhost:8080/"
        },
        "id": "6YKmOWHOuAJa",
        "outputId": "c56942bb-7f22-4bcd-c632-768bdb92440d"
      },
      "outputs": [
        {
          "name": "stdout",
          "output_type": "stream",
          "text": [
            "\n",
            "Hours_Studied: 43 outliers\n",
            "\n",
            "Attendance: 0 outliers\n",
            "\n",
            "Sleep_Hours: 0 outliers\n",
            "\n",
            "Previous_Scores: 0 outliers\n",
            "\n",
            "Tutoring_Sessions: 430 outliers\n",
            "\n",
            "Physical_Activity: 0 outliers\n",
            "\n",
            "Exam_Score: 104 outliers\n"
          ]
        }
      ],
      "source": [
        "numeric_cols = ['Hours_Studied', 'Attendance', 'Sleep_Hours', 'Previous_Scores', 'Tutoring_Sessions', 'Physical_Activity', 'Exam_Score']\n",
        "\n",
        "for col in numeric_cols:\n",
        "    Q1 = df[col].quantile(0.25)\n",
        "    Q3 = df[col].quantile(0.75)\n",
        "    IQR = Q3 - Q1\n",
        "    outliers = df[(df[col] < Q1 - 1.5*IQR) | (df[col] > Q3 + 1.5*IQR)]\n",
        "    print(f\"\\n{col}: {len(outliers)} outliers\")"
      ]
    },
    {
      "cell_type": "code",
      "execution_count": 127,
      "metadata": {
        "colab": {
          "base_uri": "https://localhost:8080/",
          "height": 468
        },
        "id": "xuOTGkLPrZGI",
        "outputId": "4c9a1767-3cdb-4b8a-ce9b-5ee6f9f58e3a"
      },
      "outputs": [
        {
          "data": {
            "image/png": "[encoded data removed]",
            "text/plain": [
              "<Figure size 500x500 with 1 Axes>"
            ]
          },
          "metadata": {},
          "output_type": "display_data"
        }
      ],
      "source": [
        "plt.figure(figsize=(5, 5))\n",
        "plt.boxplot(df['Hours_Studied'])\n",
        "plt.title('Boxplot of Hours_Studied')\n",
        "plt.ylabel('Hours_Studied')\n",
        "plt.show()"
      ]
    },
    {
      "cell_type": "code",
      "execution_count": 128,
      "metadata": {
        "colab": {
          "base_uri": "https://localhost:8080/",
          "height": 444
        },
        "id": "jHlz_DVvCoiK",
        "outputId": "6aa428ab-96cd-44d1-d17e-05163c246edc"
      },
      "outputs": [
        {
          "data": {
            "image/png": "[encoded data removed]",
            "text/plain": [
              "<Figure size 500x500 with 1 Axes>"
            ]
          },
          "metadata": {},
          "output_type": "display_data"
        }
      ],
      "source": [
        "attendance_counts = df['Attendance'].value_counts()\n",
        "top_5_attendance = attendance_counts.head(5)\n",
        "\n",
        "plt.figure(figsize=(5, 5))\n",
        "plt.pie(top_5_attendance, labels=top_5_attendance.index, autopct='%1.1f%%')\n",
        "plt.title('Top 5 Attendance Percentage')\n",
        "plt.show()"
      ]
    },
    {
      "cell_type": "code",
      "execution_count": 129,
      "metadata": {
        "colab": {
          "base_uri": "https://localhost:8080/",
          "height": 479
        },
        "id": "bbba9f03",
        "outputId": "97861e02-2a12-4f97-d3fa-e54592b7fcac"
      },
      "outputs": [
        {
          "data": {
            "text/plain": [
              "<Figure size 600x400 with 0 Axes>"
            ]
          },
          "metadata": {},
          "output_type": "display_data"
        },
        {
          "data": {
            "image/png": "[encoded data removed]",
            "text/plain": [
              "<Figure size 640x480 with 1 Axes>"
            ]
          },
          "metadata": {},
          "output_type": "display_data"
        }
      ],
      "source": [
        "plt.figure(figsize=(6, 4))\n",
        "df.boxplot(column='Exam_Score', by='Extracurricular_Activities')\n",
        "plt.title('Exam Score vs Extracurricular Activities')\n",
        "plt.xlabel('Extracurricular Activities')\n",
        "plt.ylabel('Exam Score')\n",
        "plt.suptitle('')\n",
        "plt.show()"
      ]
    },
    {
      "cell_type": "markdown",
      "metadata": {
        "id": "7EbcXUY618YD"
      },
      "source": [
        "Linear Algebra & NumPy"
      ]
    },
    {
      "cell_type": "code",
      "execution_count": 130,
      "metadata": {
        "colab": {
          "base_uri": "https://localhost:8080/",
          "height": 130
        },
        "id": "NxD9RaWR1762",
        "outputId": "74ae4720-bdf0-4dae-cfe5-5c1c961beda9"
      },
      "outputs": [
        {
          "data": {
            "text/html": [
              "<div>\n",
              "<style scoped>\n",
              "    .dataframe tbody tr th:only-of-type {\n",
              "        vertical-align: middle;\n",
              "    }\n",
              "\n",
              "    .dataframe tbody tr th {\n",
              "        vertical-align: top;\n",
              "    }\n",
              "\n",
              "    .dataframe thead th {\n",
              "        text-align: right;\n",
              "    }\n",
              "</style>\n",
              "<table border=\"1\" class=\"dataframe\">\n",
              "  <thead>\n",
              "    <tr style=\"text-align: right;\">\n",
              "      <th></th>\n",
              "      <th>Hours_Studied</th>\n",
              "      <th>Attendance</th>\n",
              "      <th>Parental_Involvement</th>\n",
              "      <th>Access_to_Resources</th>\n",
              "      <th>Extracurricular_Activities</th>\n",
              "      <th>Sleep_Hours</th>\n",
              "      <th>Previous_Scores</th>\n",
              "      <th>Motivation_Level</th>\n",
              "      <th>Internet_Access</th>\n",
              "      <th>Tutoring_Sessions</th>\n",
              "      <th>...</th>\n",
              "      <th>Teacher_Quality</th>\n",
              "      <th>School_Type</th>\n",
              "      <th>Peer_Influence</th>\n",
              "      <th>Physical_Activity</th>\n",
              "      <th>Learning_Disabilities</th>\n",
              "      <th>Parental_Education_Level</th>\n",
              "      <th>Distance_from_Home</th>\n",
              "      <th>Gender</th>\n",
              "      <th>Exam_Score</th>\n",
              "      <th>Total_Score</th>\n",
              "    </tr>\n",
              "  </thead>\n",
              "  <tbody>\n",
              "    <tr>\n",
              "      <th>4478</th>\n",
              "      <td>12</td>\n",
              "      <td>83</td>\n",
              "      <td>High</td>\n",
              "      <td>Medium</td>\n",
              "      <td>Yes</td>\n",
              "      <td>5</td>\n",
              "      <td>85</td>\n",
              "      <td>Medium</td>\n",
              "      <td>Yes</td>\n",
              "      <td>2</td>\n",
              "      <td>...</td>\n",
              "      <td>High</td>\n",
              "      <td>Private</td>\n",
              "      <td>Negative</td>\n",
              "      <td>2</td>\n",
              "      <td>No</td>\n",
              "      <td>College</td>\n",
              "      <td>Near</td>\n",
              "      <td>Male</td>\n",
              "      <td>67</td>\n",
              "      <td>152</td>\n",
              "    </tr>\n",
              "  </tbody>\n",
              "</table>\n",
              "<p>1 rows × 21 columns</p>\n",
              "</div>"
            ],
            "text/plain": [
              "      Hours_Studied  Attendance Parental_Involvement Access_to_Resources  \\\n",
              "4478             12          83                 High              Medium   \n",
              "\n",
              "     Extracurricular_Activities  Sleep_Hours  Previous_Scores  \\\n",
              "4478                        Yes            5               85   \n",
              "\n",
              "     Motivation_Level Internet_Access  Tutoring_Sessions  ... Teacher_Quality  \\\n",
              "4478           Medium             Yes                  2  ...            High   \n",
              "\n",
              "     School_Type Peer_Influence Physical_Activity  Learning_Disabilities  \\\n",
              "4478     Private       Negative                 2                     No   \n",
              "\n",
              "     Parental_Education_Level Distance_from_Home Gender Exam_Score  \\\n",
              "4478                  College               Near   Male         67   \n",
              "\n",
              "      Total_Score  \n",
              "4478          152  \n",
              "\n",
              "[1 rows x 21 columns]"
            ]
          },
          "execution_count": 130,
          "metadata": {},
          "output_type": "execute_result"
        }
      ],
      "source": [
        "previous_scores = df['Previous_Scores'].to_numpy()\n",
        "exam_score = df['Exam_Score'].to_numpy()\n",
        "df['Total_Score'] = np.add(previous_scores, exam_score)\n",
        "df.sample()"
      ]
    },
    {
      "cell_type": "markdown",
      "metadata": {
        "id": "kq6wnr_NIL99"
      },
      "source": [
        "Differential Calculus"
      ]
    },
    {
      "cell_type": "code",
      "execution_count": 131,
      "metadata": {
        "colab": {
          "base_uri": "https://localhost:8080/",
          "height": 516
        },
        "id": "cfea6924",
        "outputId": "a57a67de-5497-4c08-92cf-be4d951d95ba"
      },
      "outputs": [
        {
          "name": "stdout",
          "output_type": "stream",
          "text": [
            "Difference in Hours_Studied between consecutive rows:\n"
          ]
        },
        {
          "data": {
            "text/plain": [
              "0     NaN\n",
              "1    -4.0\n",
              "2     5.0\n",
              "3     5.0\n",
              "4   -10.0\n",
              "Name: Hours_Studied, dtype: float64"
            ]
          },
          "metadata": {},
          "output_type": "display_data"
        },
        {
          "name": "stdout",
          "output_type": "stream",
          "text": [
            "\n",
            "Difference in Exam_Score between consecutive rows:\n"
          ]
        },
        {
          "data": {
            "text/plain": [
              "0     NaN\n",
              "1    -6.0\n",
              "2    13.0\n",
              "3    -3.0\n",
              "4    -1.0\n",
              "Name: Exam_Score, dtype: float64"
            ]
          },
          "metadata": {},
          "output_type": "display_data"
        }
      ],
      "source": [
        "hours_studied_diff = df['Hours_Studied'].diff()\n",
        "print(\"Difference in Hours_Studied between consecutive rows:\")\n",
        "display(hours_studied_diff.head())\n",
        "\n",
        "exam_score_diff = df['Exam_Score'].diff()\n",
        "print(\"\\nDifference in Exam_Score between consecutive rows:\")\n",
        "display(exam_score_diff.head())"
      ]
    },
    {
      "cell_type": "markdown",
      "metadata": {
        "id": "G6_mlYum02Ep"
      },
      "source": [
        "Probability"
      ]
    },
    {
      "cell_type": "code",
      "execution_count": 132,
      "metadata": {
        "colab": {
          "base_uri": "https://localhost:8080/",
          "height": 410
        },
        "id": "5H2lLD4M07ae",
        "outputId": "881bfe01-1c1f-43ea-946f-fe67f477b7db"
      },
      "outputs": [
        {
          "data": {
            "image/png": "[encoded data removed]",
            "text/plain": [
              "<Figure size 600x400 with 1 Axes>"
            ]
          },
          "metadata": {},
          "output_type": "display_data"
        }
      ],
      "source": [
        "school_prob = df['School_Type'].value_counts(normalize=True)\n",
        "\n",
        "plt.figure(figsize=(6,4))\n",
        "plt.bar(school_prob.index, school_prob.values, color='skyblue')\n",
        "plt.xlabel(\"School Type\")\n",
        "plt.ylabel(\"Probability\")\n",
        "plt.title(\"Probability of Each School Type\")\n",
        "plt.show()"
      ]
    },
    {
      "cell_type": "markdown",
      "metadata": {
        "id": "AUXVRC_O1JmS"
      },
      "source": [
        "Statistics"
      ]
    },
    {
      "cell_type": "code",
      "execution_count": 133,
      "metadata": {
        "colab": {
          "base_uri": "https://localhost:8080/"
        },
        "id": "X9pBdAmV2SPT",
        "outputId": "452963c8-bfa8-45ef-e42a-c3f1f039451a"
      },
      "outputs": [
        {
          "name": "stdout",
          "output_type": "stream",
          "text": [
            "Average Exam Score by Gender:\n",
            " Gender\n",
            "Female    67.244898\n",
            "Male      67.228894\n",
            "Name: Exam_Score, dtype: float64\n"
          ]
        }
      ],
      "source": [
        "print(\"Average Exam Score by Gender:\\n\", df.groupby('Gender')['Exam_Score'].mean())"
      ]
    },
    {
      "cell_type": "code",
      "execution_count": 134,
      "metadata": {
        "colab": {
          "base_uri": "https://localhost:8080/",
          "height": 427
        },
        "id": "21gLrYue1PoP",
        "outputId": "632c9bf0-2b67-4e47-c8d7-637930088cec"
      },
      "outputs": [
        {
          "name": "stdout",
          "output_type": "stream",
          "text": [
            "Correlation between Exam_Score and Hours_Studied: 0.4454549540752822\n"
          ]
        },
        {
          "data": {
            "image/png": "[encoded data removed]",
            "text/plain": [
              "<Figure size 600x400 with 1 Axes>"
            ]
          },
          "metadata": {},
          "output_type": "display_data"
        }
      ],
      "source": [
        "corr = df['Exam_Score'].corr(df['Hours_Studied'])\n",
        "print(\"Correlation between Exam_Score and Hours_Studied:\", corr)\n",
        "\n",
        "plt.figure(figsize=(6,4))\n",
        "plt.scatter(df['Hours_Studied'], df['Exam_Score'], color='teal')\n",
        "plt.xlabel(\"Hours Studied\")\n",
        "plt.ylabel(\"Exam Score\")\n",
        "plt.title(f\"Exam Score vs Hours Studied (Correlation = {corr:.2f})\")\n",
        "plt.show()"
      ]
    },
    {
      "cell_type": "markdown",
      "metadata": {
        "id": "O3GHXr5F8LRO"
      },
      "source": [
        "Feature Engineering"
      ]
    },
    {
      "cell_type": "code",
      "execution_count": 135,
      "metadata": {
        "colab": {
          "base_uri": "https://localhost:8080/",
          "height": 130
        },
        "id": "8aIvF6dq9GB2",
        "outputId": "1df3503f-e2e7-45db-f722-c9ce9398d8c2"
      },
      "outputs": [
        {
          "data": {
            "text/html": [
              "<div>\n",
              "<style scoped>\n",
              "    .dataframe tbody tr th:only-of-type {\n",
              "        vertical-align: middle;\n",
              "    }\n",
              "\n",
              "    .dataframe tbody tr th {\n",
              "        vertical-align: top;\n",
              "    }\n",
              "\n",
              "    .dataframe thead th {\n",
              "        text-align: right;\n",
              "    }\n",
              "</style>\n",
              "<table border=\"1\" class=\"dataframe\">\n",
              "  <thead>\n",
              "    <tr style=\"text-align: right;\">\n",
              "      <th></th>\n",
              "      <th>Hours_Studied</th>\n",
              "      <th>Attendance</th>\n",
              "      <th>Parental_Involvement</th>\n",
              "      <th>Access_to_Resources</th>\n",
              "      <th>Extracurricular_Activities</th>\n",
              "      <th>Sleep_Hours</th>\n",
              "      <th>Previous_Scores</th>\n",
              "      <th>Motivation_Level</th>\n",
              "      <th>Internet_Access</th>\n",
              "      <th>Tutoring_Sessions</th>\n",
              "      <th>...</th>\n",
              "      <th>School_Type</th>\n",
              "      <th>Peer_Influence</th>\n",
              "      <th>Physical_Activity</th>\n",
              "      <th>Learning_Disabilities</th>\n",
              "      <th>Parental_Education_Level</th>\n",
              "      <th>Distance_from_Home</th>\n",
              "      <th>Gender</th>\n",
              "      <th>Exam_Score</th>\n",
              "      <th>Total_Score</th>\n",
              "      <th>Gender_Num</th>\n",
              "    </tr>\n",
              "  </thead>\n",
              "  <tbody>\n",
              "    <tr>\n",
              "      <th>2106</th>\n",
              "      <td>15</td>\n",
              "      <td>81</td>\n",
              "      <td>Medium</td>\n",
              "      <td>Medium</td>\n",
              "      <td>Yes</td>\n",
              "      <td>8</td>\n",
              "      <td>52</td>\n",
              "      <td>Medium</td>\n",
              "      <td>Yes</td>\n",
              "      <td>0</td>\n",
              "      <td>...</td>\n",
              "      <td>Public</td>\n",
              "      <td>Neutral</td>\n",
              "      <td>2</td>\n",
              "      <td>No</td>\n",
              "      <td>Postgraduate</td>\n",
              "      <td>Near</td>\n",
              "      <td>Male</td>\n",
              "      <td>65</td>\n",
              "      <td>117</td>\n",
              "      <td>0</td>\n",
              "    </tr>\n",
              "  </tbody>\n",
              "</table>\n",
              "<p>1 rows × 22 columns</p>\n",
              "</div>"
            ],
            "text/plain": [
              "      Hours_Studied  Attendance Parental_Involvement Access_to_Resources  \\\n",
              "2106             15          81               Medium              Medium   \n",
              "\n",
              "     Extracurricular_Activities  Sleep_Hours  Previous_Scores  \\\n",
              "2106                        Yes            8               52   \n",
              "\n",
              "     Motivation_Level Internet_Access  Tutoring_Sessions  ... School_Type  \\\n",
              "2106           Medium             Yes                  0  ...      Public   \n",
              "\n",
              "     Peer_Influence Physical_Activity Learning_Disabilities  \\\n",
              "2106        Neutral                 2                    No   \n",
              "\n",
              "      Parental_Education_Level Distance_from_Home Gender Exam_Score  \\\n",
              "2106              Postgraduate               Near   Male         65   \n",
              "\n",
              "     Total_Score  Gender_Num  \n",
              "2106         117           0  \n",
              "\n",
              "[1 rows x 22 columns]"
            ]
          },
          "execution_count": 135,
          "metadata": {},
          "output_type": "execute_result"
        }
      ],
      "source": [
        "# Encoding Categorical Features - Convert Gender to numeric for ML models.\n",
        "df['Gender_Num'] = df['Gender'].map({'Male': 0, 'Female': 1})\n",
        "df.sample()"
      ]
    },
    {
      "cell_type": "code",
      "execution_count": 136,
      "metadata": {
        "colab": {
          "base_uri": "https://localhost:8080/",
          "height": 130
        },
        "id": "z82G3xqYQ731",
        "outputId": "6c337b52-98a3-44d2-f0e2-77a2b810ece8"
      },
      "outputs": [
        {
          "data": {
            "text/html": [
              "<div>\n",
              "<style scoped>\n",
              "    .dataframe tbody tr th:only-of-type {\n",
              "        vertical-align: middle;\n",
              "    }\n",
              "\n",
              "    .dataframe tbody tr th {\n",
              "        vertical-align: top;\n",
              "    }\n",
              "\n",
              "    .dataframe thead th {\n",
              "        text-align: right;\n",
              "    }\n",
              "</style>\n",
              "<table border=\"1\" class=\"dataframe\">\n",
              "  <thead>\n",
              "    <tr style=\"text-align: right;\">\n",
              "      <th></th>\n",
              "      <th>Hours_Studied</th>\n",
              "      <th>Attendance</th>\n",
              "      <th>Parental_Involvement</th>\n",
              "      <th>Access_to_Resources</th>\n",
              "      <th>Extracurricular_Activities</th>\n",
              "      <th>Sleep_Hours</th>\n",
              "      <th>Previous_Scores</th>\n",
              "      <th>Motivation_Level</th>\n",
              "      <th>Internet_Access</th>\n",
              "      <th>Tutoring_Sessions</th>\n",
              "      <th>...</th>\n",
              "      <th>School_Type</th>\n",
              "      <th>Peer_Influence</th>\n",
              "      <th>Physical_Activity</th>\n",
              "      <th>Learning_Disabilities</th>\n",
              "      <th>Parental_Education_Level</th>\n",
              "      <th>Distance_from_Home</th>\n",
              "      <th>Gender</th>\n",
              "      <th>Exam_Score</th>\n",
              "      <th>Total_Score</th>\n",
              "      <th>Gender_Num</th>\n",
              "    </tr>\n",
              "  </thead>\n",
              "  <tbody>\n",
              "    <tr>\n",
              "      <th>580</th>\n",
              "      <td>22</td>\n",
              "      <td>65</td>\n",
              "      <td>Medium</td>\n",
              "      <td>Medium</td>\n",
              "      <td>Yes</td>\n",
              "      <td>7</td>\n",
              "      <td>95</td>\n",
              "      <td>Low</td>\n",
              "      <td>Yes</td>\n",
              "      <td>3</td>\n",
              "      <td>...</td>\n",
              "      <td>Public</td>\n",
              "      <td>Positive</td>\n",
              "      <td>2</td>\n",
              "      <td>No</td>\n",
              "      <td>High School</td>\n",
              "      <td>Moderate</td>\n",
              "      <td>Female</td>\n",
              "      <td>65</td>\n",
              "      <td>160</td>\n",
              "      <td>1</td>\n",
              "    </tr>\n",
              "  </tbody>\n",
              "</table>\n",
              "<p>1 rows × 22 columns</p>\n",
              "</div>"
            ],
            "text/plain": [
              "     Hours_Studied  Attendance Parental_Involvement Access_to_Resources  \\\n",
              "580             22          65               Medium              Medium   \n",
              "\n",
              "    Extracurricular_Activities  Sleep_Hours  Previous_Scores Motivation_Level  \\\n",
              "580                        Yes            7               95              Low   \n",
              "\n",
              "    Internet_Access  Tutoring_Sessions  ... School_Type Peer_Influence  \\\n",
              "580             Yes                  3  ...      Public       Positive   \n",
              "\n",
              "    Physical_Activity Learning_Disabilities  Parental_Education_Level  \\\n",
              "580                 2                    No               High School   \n",
              "\n",
              "    Distance_from_Home  Gender Exam_Score Total_Score  Gender_Num  \n",
              "580           Moderate  Female         65         160           1  \n",
              "\n",
              "[1 rows x 22 columns]"
            ]
          },
          "execution_count": 136,
          "metadata": {},
          "output_type": "execute_result"
        }
      ],
      "source": [
        "df.drop('Gender', axis=1)\n",
        "df.sample()"
      ]
    },
    {
      "cell_type": "code",
      "execution_count": 137,
      "metadata": {
        "colab": {
          "base_uri": "https://localhost:8080/",
          "height": 81
        },
        "id": "9AsHo70H8PTR",
        "outputId": "2c737733-ff2f-4846-d25d-5cc01d74e0ba"
      },
      "outputs": [
        {
          "data": {
            "text/html": [
              "<div>\n",
              "<style scoped>\n",
              "    .dataframe tbody tr th:only-of-type {\n",
              "        vertical-align: middle;\n",
              "    }\n",
              "\n",
              "    .dataframe tbody tr th {\n",
              "        vertical-align: top;\n",
              "    }\n",
              "\n",
              "    .dataframe thead th {\n",
              "        text-align: right;\n",
              "    }\n",
              "</style>\n",
              "<table border=\"1\" class=\"dataframe\">\n",
              "  <thead>\n",
              "    <tr style=\"text-align: right;\">\n",
              "      <th></th>\n",
              "      <th>Attendance</th>\n",
              "      <th>Attendance_Level</th>\n",
              "    </tr>\n",
              "  </thead>\n",
              "  <tbody>\n",
              "    <tr>\n",
              "      <th>3539</th>\n",
              "      <td>70</td>\n",
              "      <td>Medium</td>\n",
              "    </tr>\n",
              "  </tbody>\n",
              "</table>\n",
              "</div>"
            ],
            "text/plain": [
              "      Attendance Attendance_Level\n",
              "3539          70           Medium"
            ]
          },
          "execution_count": 137,
          "metadata": {},
          "output_type": "execute_result"
        }
      ],
      "source": [
        "# Binning / Categorization - Convert numeric features into categories\n",
        "df['Attendance_Level'] = pd.cut(df['Attendance'], bins=[0, 60, 80, 100], labels=['Low', 'Medium', 'High'])\n",
        "df[['Attendance', 'Attendance_Level']].sample()"
      ]
    },
    {
      "cell_type": "markdown",
      "metadata": {
        "id": "cpX_14eNCLnN"
      },
      "source": [
        "SQL Simulation in Pandas"
      ]
    },
    {
      "cell_type": "code",
      "execution_count": 138,
      "metadata": {
        "colab": {
          "base_uri": "https://localhost:8080/",
          "height": 255
        },
        "id": "U5mkDPxECNHx",
        "outputId": "04667cc1-7286-4b40-8ef7-0fb850137dfc"
      },
      "outputs": [
        {
          "data": {
            "text/html": [
              "<div>\n",
              "<style scoped>\n",
              "    .dataframe tbody tr th:only-of-type {\n",
              "        vertical-align: middle;\n",
              "    }\n",
              "\n",
              "    .dataframe tbody tr th {\n",
              "        vertical-align: top;\n",
              "    }\n",
              "\n",
              "    .dataframe thead th {\n",
              "        text-align: right;\n",
              "    }\n",
              "</style>\n",
              "<table border=\"1\" class=\"dataframe\">\n",
              "  <thead>\n",
              "    <tr style=\"text-align: right;\">\n",
              "      <th></th>\n",
              "      <th>Hours_Studied</th>\n",
              "      <th>Attendance</th>\n",
              "      <th>Parental_Involvement</th>\n",
              "      <th>Access_to_Resources</th>\n",
              "      <th>Extracurricular_Activities</th>\n",
              "      <th>Sleep_Hours</th>\n",
              "      <th>Previous_Scores</th>\n",
              "      <th>Motivation_Level</th>\n",
              "      <th>Internet_Access</th>\n",
              "      <th>Tutoring_Sessions</th>\n",
              "      <th>...</th>\n",
              "      <th>Peer_Influence</th>\n",
              "      <th>Physical_Activity</th>\n",
              "      <th>Learning_Disabilities</th>\n",
              "      <th>Parental_Education_Level</th>\n",
              "      <th>Distance_from_Home</th>\n",
              "      <th>Gender</th>\n",
              "      <th>Exam_Score</th>\n",
              "      <th>Total_Score</th>\n",
              "      <th>Gender_Num</th>\n",
              "      <th>Attendance_Level</th>\n",
              "    </tr>\n",
              "  </thead>\n",
              "  <tbody>\n",
              "    <tr>\n",
              "      <th>6347</th>\n",
              "      <td>28</td>\n",
              "      <td>96</td>\n",
              "      <td>High</td>\n",
              "      <td>Low</td>\n",
              "      <td>Yes</td>\n",
              "      <td>4</td>\n",
              "      <td>98</td>\n",
              "      <td>High</td>\n",
              "      <td>Yes</td>\n",
              "      <td>1</td>\n",
              "      <td>...</td>\n",
              "      <td>Positive</td>\n",
              "      <td>3</td>\n",
              "      <td>No</td>\n",
              "      <td>High School</td>\n",
              "      <td>Near</td>\n",
              "      <td>Male</td>\n",
              "      <td>98</td>\n",
              "      <td>196</td>\n",
              "      <td>0</td>\n",
              "      <td>High</td>\n",
              "    </tr>\n",
              "    <tr>\n",
              "      <th>529</th>\n",
              "      <td>15</td>\n",
              "      <td>83</td>\n",
              "      <td>Medium</td>\n",
              "      <td>Medium</td>\n",
              "      <td>No</td>\n",
              "      <td>7</td>\n",
              "      <td>97</td>\n",
              "      <td>Medium</td>\n",
              "      <td>Yes</td>\n",
              "      <td>2</td>\n",
              "      <td>...</td>\n",
              "      <td>Neutral</td>\n",
              "      <td>2</td>\n",
              "      <td>No</td>\n",
              "      <td>High School</td>\n",
              "      <td>Near</td>\n",
              "      <td>Female</td>\n",
              "      <td>97</td>\n",
              "      <td>194</td>\n",
              "      <td>1</td>\n",
              "      <td>High</td>\n",
              "    </tr>\n",
              "    <tr>\n",
              "      <th>1525</th>\n",
              "      <td>27</td>\n",
              "      <td>98</td>\n",
              "      <td>Low</td>\n",
              "      <td>Medium</td>\n",
              "      <td>Yes</td>\n",
              "      <td>6</td>\n",
              "      <td>93</td>\n",
              "      <td>Low</td>\n",
              "      <td>No</td>\n",
              "      <td>5</td>\n",
              "      <td>...</td>\n",
              "      <td>Positive</td>\n",
              "      <td>3</td>\n",
              "      <td>No</td>\n",
              "      <td>High School</td>\n",
              "      <td>Moderate</td>\n",
              "      <td>Female</td>\n",
              "      <td>101</td>\n",
              "      <td>194</td>\n",
              "      <td>1</td>\n",
              "      <td>High</td>\n",
              "    </tr>\n",
              "    <tr>\n",
              "      <th>919</th>\n",
              "      <td>21</td>\n",
              "      <td>74</td>\n",
              "      <td>High</td>\n",
              "      <td>Medium</td>\n",
              "      <td>No</td>\n",
              "      <td>6</td>\n",
              "      <td>94</td>\n",
              "      <td>Medium</td>\n",
              "      <td>Yes</td>\n",
              "      <td>1</td>\n",
              "      <td>...</td>\n",
              "      <td>Positive</td>\n",
              "      <td>1</td>\n",
              "      <td>No</td>\n",
              "      <td>High School</td>\n",
              "      <td>Near</td>\n",
              "      <td>Male</td>\n",
              "      <td>97</td>\n",
              "      <td>191</td>\n",
              "      <td>0</td>\n",
              "      <td>Medium</td>\n",
              "    </tr>\n",
              "    <tr>\n",
              "      <th>836</th>\n",
              "      <td>29</td>\n",
              "      <td>76</td>\n",
              "      <td>Medium</td>\n",
              "      <td>Medium</td>\n",
              "      <td>No</td>\n",
              "      <td>8</td>\n",
              "      <td>96</td>\n",
              "      <td>Low</td>\n",
              "      <td>Yes</td>\n",
              "      <td>2</td>\n",
              "      <td>...</td>\n",
              "      <td>Positive</td>\n",
              "      <td>2</td>\n",
              "      <td>No</td>\n",
              "      <td>Postgraduate</td>\n",
              "      <td>Moderate</td>\n",
              "      <td>Male</td>\n",
              "      <td>94</td>\n",
              "      <td>190</td>\n",
              "      <td>0</td>\n",
              "      <td>Medium</td>\n",
              "    </tr>\n",
              "  </tbody>\n",
              "</table>\n",
              "<p>5 rows × 23 columns</p>\n",
              "</div>"
            ],
            "text/plain": [
              "      Hours_Studied  Attendance Parental_Involvement Access_to_Resources  \\\n",
              "6347             28          96                 High                 Low   \n",
              "529              15          83               Medium              Medium   \n",
              "1525             27          98                  Low              Medium   \n",
              "919              21          74                 High              Medium   \n",
              "836              29          76               Medium              Medium   \n",
              "\n",
              "     Extracurricular_Activities  Sleep_Hours  Previous_Scores  \\\n",
              "6347                        Yes            4               98   \n",
              "529                          No            7               97   \n",
              "1525                        Yes            6               93   \n",
              "919                          No            6               94   \n",
              "836                          No            8               96   \n",
              "\n",
              "     Motivation_Level Internet_Access  Tutoring_Sessions  ... Peer_Influence  \\\n",
              "6347             High             Yes                  1  ...       Positive   \n",
              "529            Medium             Yes                  2  ...        Neutral   \n",
              "1525              Low              No                  5  ...       Positive   \n",
              "919            Medium             Yes                  1  ...       Positive   \n",
              "836               Low             Yes                  2  ...       Positive   \n",
              "\n",
              "     Physical_Activity Learning_Disabilities Parental_Education_Level  \\\n",
              "6347                 3                    No              High School   \n",
              "529                  2                    No              High School   \n",
              "1525                 3                    No              High School   \n",
              "919                  1                    No              High School   \n",
              "836                  2                    No             Postgraduate   \n",
              "\n",
              "      Distance_from_Home  Gender Exam_Score Total_Score Gender_Num  \\\n",
              "6347                Near    Male         98         196          0   \n",
              "529                 Near  Female         97         194          1   \n",
              "1525            Moderate  Female        101         194          1   \n",
              "919                 Near    Male         97         191          0   \n",
              "836             Moderate    Male         94         190          0   \n",
              "\n",
              "      Attendance_Level  \n",
              "6347              High  \n",
              "529               High  \n",
              "1525              High  \n",
              "919             Medium  \n",
              "836             Medium  \n",
              "\n",
              "[5 rows x 23 columns]"
            ]
          },
          "execution_count": 138,
          "metadata": {},
          "output_type": "execute_result"
        }
      ],
      "source": [
        "# Top 5 students by Total_Score -  LIMIT / TOP N\n",
        "df.nlargest(5, 'Total_Score')"
      ]
    },
    {
      "cell_type": "code",
      "execution_count": 139,
      "metadata": {
        "colab": {
          "base_uri": "https://localhost:8080/",
          "height": 255
        },
        "id": "lMzS7HDlD8V-",
        "outputId": "dcf74e20-238c-4053-ead1-c6cb0ff4a85d"
      },
      "outputs": [
        {
          "data": {
            "text/html": [
              "<div>\n",
              "<style scoped>\n",
              "    .dataframe tbody tr th:only-of-type {\n",
              "        vertical-align: middle;\n",
              "    }\n",
              "\n",
              "    .dataframe tbody tr th {\n",
              "        vertical-align: top;\n",
              "    }\n",
              "\n",
              "    .dataframe thead th {\n",
              "        text-align: right;\n",
              "    }\n",
              "</style>\n",
              "<table border=\"1\" class=\"dataframe\">\n",
              "  <thead>\n",
              "    <tr style=\"text-align: right;\">\n",
              "      <th></th>\n",
              "      <th>Hours_Studied</th>\n",
              "      <th>Attendance</th>\n",
              "      <th>Parental_Involvement</th>\n",
              "      <th>Access_to_Resources</th>\n",
              "      <th>Extracurricular_Activities</th>\n",
              "      <th>Sleep_Hours</th>\n",
              "      <th>Previous_Scores</th>\n",
              "      <th>Motivation_Level</th>\n",
              "      <th>Internet_Access</th>\n",
              "      <th>Tutoring_Sessions</th>\n",
              "      <th>...</th>\n",
              "      <th>Peer_Influence</th>\n",
              "      <th>Physical_Activity</th>\n",
              "      <th>Learning_Disabilities</th>\n",
              "      <th>Parental_Education_Level</th>\n",
              "      <th>Distance_from_Home</th>\n",
              "      <th>Gender</th>\n",
              "      <th>Exam_Score</th>\n",
              "      <th>Total_Score</th>\n",
              "      <th>Gender_Num</th>\n",
              "      <th>Attendance_Level</th>\n",
              "    </tr>\n",
              "  </thead>\n",
              "  <tbody>\n",
              "    <tr>\n",
              "      <th>1525</th>\n",
              "      <td>27</td>\n",
              "      <td>98</td>\n",
              "      <td>Low</td>\n",
              "      <td>Medium</td>\n",
              "      <td>Yes</td>\n",
              "      <td>6</td>\n",
              "      <td>93</td>\n",
              "      <td>Low</td>\n",
              "      <td>No</td>\n",
              "      <td>5</td>\n",
              "      <td>...</td>\n",
              "      <td>Positive</td>\n",
              "      <td>3</td>\n",
              "      <td>No</td>\n",
              "      <td>High School</td>\n",
              "      <td>Moderate</td>\n",
              "      <td>Female</td>\n",
              "      <td>101</td>\n",
              "      <td>194</td>\n",
              "      <td>1</td>\n",
              "      <td>High</td>\n",
              "    </tr>\n",
              "    <tr>\n",
              "      <th>94</th>\n",
              "      <td>18</td>\n",
              "      <td>89</td>\n",
              "      <td>High</td>\n",
              "      <td>Medium</td>\n",
              "      <td>Yes</td>\n",
              "      <td>4</td>\n",
              "      <td>73</td>\n",
              "      <td>Medium</td>\n",
              "      <td>Yes</td>\n",
              "      <td>3</td>\n",
              "      <td>...</td>\n",
              "      <td>Positive</td>\n",
              "      <td>2</td>\n",
              "      <td>No</td>\n",
              "      <td>College</td>\n",
              "      <td>Near</td>\n",
              "      <td>Female</td>\n",
              "      <td>100</td>\n",
              "      <td>173</td>\n",
              "      <td>1</td>\n",
              "      <td>High</td>\n",
              "    </tr>\n",
              "    <tr>\n",
              "      <th>2425</th>\n",
              "      <td>23</td>\n",
              "      <td>83</td>\n",
              "      <td>High</td>\n",
              "      <td>High</td>\n",
              "      <td>Yes</td>\n",
              "      <td>4</td>\n",
              "      <td>89</td>\n",
              "      <td>Low</td>\n",
              "      <td>Yes</td>\n",
              "      <td>1</td>\n",
              "      <td>...</td>\n",
              "      <td>Negative</td>\n",
              "      <td>3</td>\n",
              "      <td>No</td>\n",
              "      <td>High School</td>\n",
              "      <td>Far</td>\n",
              "      <td>Male</td>\n",
              "      <td>99</td>\n",
              "      <td>188</td>\n",
              "      <td>0</td>\n",
              "      <td>High</td>\n",
              "    </tr>\n",
              "    <tr>\n",
              "      <th>3579</th>\n",
              "      <td>14</td>\n",
              "      <td>90</td>\n",
              "      <td>High</td>\n",
              "      <td>High</td>\n",
              "      <td>Yes</td>\n",
              "      <td>8</td>\n",
              "      <td>86</td>\n",
              "      <td>Medium</td>\n",
              "      <td>Yes</td>\n",
              "      <td>4</td>\n",
              "      <td>...</td>\n",
              "      <td>Negative</td>\n",
              "      <td>2</td>\n",
              "      <td>No</td>\n",
              "      <td>High School</td>\n",
              "      <td>Near</td>\n",
              "      <td>Female</td>\n",
              "      <td>99</td>\n",
              "      <td>185</td>\n",
              "      <td>1</td>\n",
              "      <td>High</td>\n",
              "    </tr>\n",
              "    <tr>\n",
              "      <th>6347</th>\n",
              "      <td>28</td>\n",
              "      <td>96</td>\n",
              "      <td>High</td>\n",
              "      <td>Low</td>\n",
              "      <td>Yes</td>\n",
              "      <td>4</td>\n",
              "      <td>98</td>\n",
              "      <td>High</td>\n",
              "      <td>Yes</td>\n",
              "      <td>1</td>\n",
              "      <td>...</td>\n",
              "      <td>Positive</td>\n",
              "      <td>3</td>\n",
              "      <td>No</td>\n",
              "      <td>High School</td>\n",
              "      <td>Near</td>\n",
              "      <td>Male</td>\n",
              "      <td>98</td>\n",
              "      <td>196</td>\n",
              "      <td>0</td>\n",
              "      <td>High</td>\n",
              "    </tr>\n",
              "  </tbody>\n",
              "</table>\n",
              "<p>5 rows × 23 columns</p>\n",
              "</div>"
            ],
            "text/plain": [
              "      Hours_Studied  Attendance Parental_Involvement Access_to_Resources  \\\n",
              "1525             27          98                  Low              Medium   \n",
              "94               18          89                 High              Medium   \n",
              "2425             23          83                 High                High   \n",
              "3579             14          90                 High                High   \n",
              "6347             28          96                 High                 Low   \n",
              "\n",
              "     Extracurricular_Activities  Sleep_Hours  Previous_Scores  \\\n",
              "1525                        Yes            6               93   \n",
              "94                          Yes            4               73   \n",
              "2425                        Yes            4               89   \n",
              "3579                        Yes            8               86   \n",
              "6347                        Yes            4               98   \n",
              "\n",
              "     Motivation_Level Internet_Access  Tutoring_Sessions  ... Peer_Influence  \\\n",
              "1525              Low              No                  5  ...       Positive   \n",
              "94             Medium             Yes                  3  ...       Positive   \n",
              "2425              Low             Yes                  1  ...       Negative   \n",
              "3579           Medium             Yes                  4  ...       Negative   \n",
              "6347             High             Yes                  1  ...       Positive   \n",
              "\n",
              "     Physical_Activity Learning_Disabilities Parental_Education_Level  \\\n",
              "1525                 3                    No              High School   \n",
              "94                   2                    No                  College   \n",
              "2425                 3                    No              High School   \n",
              "3579                 2                    No              High School   \n",
              "6347                 3                    No              High School   \n",
              "\n",
              "      Distance_from_Home  Gender Exam_Score Total_Score Gender_Num  \\\n",
              "1525            Moderate  Female        101         194          1   \n",
              "94                  Near  Female        100         173          1   \n",
              "2425                 Far    Male         99         188          0   \n",
              "3579                Near  Female         99         185          1   \n",
              "6347                Near    Male         98         196          0   \n",
              "\n",
              "      Attendance_Level  \n",
              "1525              High  \n",
              "94                High  \n",
              "2425              High  \n",
              "3579              High  \n",
              "6347              High  \n",
              "\n",
              "[5 rows x 23 columns]"
            ]
          },
          "execution_count": 139,
          "metadata": {},
          "output_type": "execute_result"
        }
      ],
      "source": [
        "# Sort by Exam_Score descending - ORDER BY (sort)\n",
        "df.sort_values(by='Exam_Score', ascending=False).head()"
      ]
    },
    {
      "cell_type": "code",
      "execution_count": 140,
      "metadata": {
        "colab": {
          "base_uri": "https://localhost:8080/",
          "height": 224
        },
        "id": "kHJQ-fxAEWrS",
        "outputId": "e9591deb-f9ae-4bd0-f819-ea769d1394f3"
      },
      "outputs": [
        {
          "data": {
            "text/html": [
              "<div>\n",
              "<style scoped>\n",
              "    .dataframe tbody tr th:only-of-type {\n",
              "        vertical-align: middle;\n",
              "    }\n",
              "\n",
              "    .dataframe tbody tr th {\n",
              "        vertical-align: top;\n",
              "    }\n",
              "\n",
              "    .dataframe thead th {\n",
              "        text-align: right;\n",
              "    }\n",
              "</style>\n",
              "<table border=\"1\" class=\"dataframe\">\n",
              "  <thead>\n",
              "    <tr style=\"text-align: right;\">\n",
              "      <th></th>\n",
              "      <th>Hours_Studied</th>\n",
              "      <th>Attendance</th>\n",
              "      <th>Parental_Involvement</th>\n",
              "      <th>Access_to_Resources</th>\n",
              "      <th>Extracurricular_Activities</th>\n",
              "      <th>Sleep_Hours</th>\n",
              "      <th>Previous_Scores</th>\n",
              "      <th>Motivation_Level</th>\n",
              "      <th>Internet_Access</th>\n",
              "      <th>Tutoring_Sessions</th>\n",
              "      <th>...</th>\n",
              "      <th>Peer_Influence</th>\n",
              "      <th>Physical_Activity</th>\n",
              "      <th>Learning_Disabilities</th>\n",
              "      <th>Parental_Education_Level</th>\n",
              "      <th>Distance_from_Home</th>\n",
              "      <th>Gender</th>\n",
              "      <th>Exam_Score</th>\n",
              "      <th>Total_Score</th>\n",
              "      <th>Gender_Num</th>\n",
              "      <th>Attendance_Level</th>\n",
              "    </tr>\n",
              "  </thead>\n",
              "  <tbody>\n",
              "    <tr>\n",
              "      <th>1525</th>\n",
              "      <td>27</td>\n",
              "      <td>98</td>\n",
              "      <td>Low</td>\n",
              "      <td>Medium</td>\n",
              "      <td>Yes</td>\n",
              "      <td>6</td>\n",
              "      <td>93</td>\n",
              "      <td>Low</td>\n",
              "      <td>No</td>\n",
              "      <td>5</td>\n",
              "      <td>...</td>\n",
              "      <td>Positive</td>\n",
              "      <td>3</td>\n",
              "      <td>No</td>\n",
              "      <td>High School</td>\n",
              "      <td>Moderate</td>\n",
              "      <td>Female</td>\n",
              "      <td>101</td>\n",
              "      <td>194</td>\n",
              "      <td>1</td>\n",
              "      <td>High</td>\n",
              "    </tr>\n",
              "    <tr>\n",
              "      <th>3457</th>\n",
              "      <td>18</td>\n",
              "      <td>93</td>\n",
              "      <td>Medium</td>\n",
              "      <td>Medium</td>\n",
              "      <td>No</td>\n",
              "      <td>7</td>\n",
              "      <td>76</td>\n",
              "      <td>Low</td>\n",
              "      <td>Yes</td>\n",
              "      <td>2</td>\n",
              "      <td>...</td>\n",
              "      <td>Neutral</td>\n",
              "      <td>4</td>\n",
              "      <td>No</td>\n",
              "      <td>High School</td>\n",
              "      <td>Near</td>\n",
              "      <td>Female</td>\n",
              "      <td>96</td>\n",
              "      <td>172</td>\n",
              "      <td>1</td>\n",
              "      <td>High</td>\n",
              "    </tr>\n",
              "    <tr>\n",
              "      <th>5966</th>\n",
              "      <td>25</td>\n",
              "      <td>99</td>\n",
              "      <td>Medium</td>\n",
              "      <td>Medium</td>\n",
              "      <td>Yes</td>\n",
              "      <td>7</td>\n",
              "      <td>77</td>\n",
              "      <td>Medium</td>\n",
              "      <td>Yes</td>\n",
              "      <td>0</td>\n",
              "      <td>...</td>\n",
              "      <td>Neutral</td>\n",
              "      <td>3</td>\n",
              "      <td>No</td>\n",
              "      <td>High School</td>\n",
              "      <td>Near</td>\n",
              "      <td>Male</td>\n",
              "      <td>97</td>\n",
              "      <td>174</td>\n",
              "      <td>0</td>\n",
              "      <td>High</td>\n",
              "    </tr>\n",
              "    <tr>\n",
              "      <th>6347</th>\n",
              "      <td>28</td>\n",
              "      <td>96</td>\n",
              "      <td>High</td>\n",
              "      <td>Low</td>\n",
              "      <td>Yes</td>\n",
              "      <td>4</td>\n",
              "      <td>98</td>\n",
              "      <td>High</td>\n",
              "      <td>Yes</td>\n",
              "      <td>1</td>\n",
              "      <td>...</td>\n",
              "      <td>Positive</td>\n",
              "      <td>3</td>\n",
              "      <td>No</td>\n",
              "      <td>High School</td>\n",
              "      <td>Near</td>\n",
              "      <td>Male</td>\n",
              "      <td>98</td>\n",
              "      <td>196</td>\n",
              "      <td>0</td>\n",
              "      <td>High</td>\n",
              "    </tr>\n",
              "  </tbody>\n",
              "</table>\n",
              "<p>4 rows × 23 columns</p>\n",
              "</div>"
            ],
            "text/plain": [
              "      Hours_Studied  Attendance Parental_Involvement Access_to_Resources  \\\n",
              "1525             27          98                  Low              Medium   \n",
              "3457             18          93               Medium              Medium   \n",
              "5966             25          99               Medium              Medium   \n",
              "6347             28          96                 High                 Low   \n",
              "\n",
              "     Extracurricular_Activities  Sleep_Hours  Previous_Scores  \\\n",
              "1525                        Yes            6               93   \n",
              "3457                         No            7               76   \n",
              "5966                        Yes            7               77   \n",
              "6347                        Yes            4               98   \n",
              "\n",
              "     Motivation_Level Internet_Access  Tutoring_Sessions  ... Peer_Influence  \\\n",
              "1525              Low              No                  5  ...       Positive   \n",
              "3457              Low             Yes                  2  ...        Neutral   \n",
              "5966           Medium             Yes                  0  ...        Neutral   \n",
              "6347             High             Yes                  1  ...       Positive   \n",
              "\n",
              "     Physical_Activity Learning_Disabilities Parental_Education_Level  \\\n",
              "1525                 3                    No              High School   \n",
              "3457                 4                    No              High School   \n",
              "5966                 3                    No              High School   \n",
              "6347                 3                    No              High School   \n",
              "\n",
              "      Distance_from_Home  Gender Exam_Score Total_Score Gender_Num  \\\n",
              "1525            Moderate  Female        101         194          1   \n",
              "3457                Near  Female         96         172          1   \n",
              "5966                Near    Male         97         174          0   \n",
              "6347                Near    Male         98         196          0   \n",
              "\n",
              "      Attendance_Level  \n",
              "1525              High  \n",
              "3457              High  \n",
              "5966              High  \n",
              "6347              High  \n",
              "\n",
              "[4 rows x 23 columns]"
            ]
          },
          "execution_count": 140,
          "metadata": {},
          "output_type": "execute_result"
        }
      ],
      "source": [
        "# Filter students based on condition\n",
        "top_students = df.query('Exam_Score > 95 & Attendance > 90')\n",
        "top_students"
      ]
    },
    {
      "cell_type": "code",
      "execution_count": 141,
      "metadata": {
        "colab": {
          "base_uri": "https://localhost:8080/",
          "height": 410
        },
        "id": "BFHJB3CaGXWf",
        "outputId": "fd529f82-dc17-4ff4-e21f-a2e174b4407d"
      },
      "outputs": [
        {
          "data": {
            "image/png": "[encoded data removed]",
            "text/plain": [
              "<Figure size 600x400 with 1 Axes>"
            ]
          },
          "metadata": {},
          "output_type": "display_data"
        }
      ],
      "source": [
        "plt.figure(figsize=(6,4))\n",
        "plt.bar(top_students.index.astype(str), top_students['Exam_Score'], color='lightpink')\n",
        "plt.xlabel(\"Student Index\")\n",
        "plt.ylabel(\"Exam Score\")\n",
        "plt.title(\"Exam Score vs Attendance (Score > 95 & Attendance > 90)\")\n",
        "plt.show()\n"
      ]
    }
  ],
  "metadata": {
    "colab": {
      "provenance": []
    },
    "kernelspec": {
      "display_name": "Python 3",
      "name": "python3"
    },
    "language_info": {
      "codemirror_mode": {
        "name": "ipython",
        "version": 3
      },
      "file_extension": ".py",
      "mimetype": "text/x-python",
      "name": "python",
      "nbconvert_exporter": "python",
      "pygments_lexer": "ipython3",
      "version": "3.10.0"
    }
  },
  "nbformat": 4,
  "nbformat_minor": 0
}
